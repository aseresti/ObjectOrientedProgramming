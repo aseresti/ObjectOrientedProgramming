{
 "cells": [
  {
   "cell_type": "markdown",
   "id": "78032732",
   "metadata": {},
   "source": [
    "# Inharitance"
   ]
  },
  {
   "cell_type": "markdown",
   "id": "aa878eab",
   "metadata": {},
   "source": [
    "Inheritance is a relationship between objects. A derived class inherits the attributes and methods of a base class. Also, it may override or extend the attributes.\n",
    "There are 4 types of inheritance:\n",
    "> 1. Single:  Class B inherits from class A.\n",
    "> 2. Multiple: Class C inherits from class A and B.\n",
    "> 3. Multilevel: Class C inherits from class B inherits from class A.\n",
    "> 4. Hierarchial: Class B and C inherits from class A."
   ]
  },
  {
   "cell_type": "markdown",
   "id": "83976063",
   "metadata": {},
   "source": [
    "### Single inheritance"
   ]
  },
  {
   "cell_type": "code",
   "execution_count": 17,
   "id": "4f454700",
   "metadata": {},
   "outputs": [],
   "source": [
    "class shape:\n",
    "    def __init__(self,color='Black',thickness = 2):\n",
    "        self.color = color\n",
    "        self.thickness = thickness\n",
    "    def __str__(self):\n",
    "        return f'shape in {self.color}'\n",
    "    def __repr__(self):\n",
    "        return f\"shape({self.color})\""
   ]
  },
  {
   "cell_type": "code",
   "execution_count": 18,
   "id": "668f8f9d",
   "metadata": {},
   "outputs": [],
   "source": [
    "sh = shape('Red')"
   ]
  },
  {
   "cell_type": "code",
   "execution_count": 19,
   "id": "9e10f83e",
   "metadata": {},
   "outputs": [
    {
     "data": {
      "text/plain": [
       "'shape in Red'"
      ]
     },
     "execution_count": 19,
     "metadata": {},
     "output_type": "execute_result"
    }
   ],
   "source": [
    "str(sh)"
   ]
  },
  {
   "cell_type": "code",
   "execution_count": 20,
   "id": "6048c4e6",
   "metadata": {},
   "outputs": [
    {
     "data": {
      "text/plain": [
       "shape(Red)"
      ]
     },
     "execution_count": 20,
     "metadata": {},
     "output_type": "execute_result"
    }
   ],
   "source": [
    "sh"
   ]
  },
  {
   "cell_type": "code",
   "execution_count": 21,
   "id": "f972cbd2",
   "metadata": {},
   "outputs": [],
   "source": [
    "class Rectangle():\n",
    "    def __init__(self, width, height,color, thickness):\n",
    "        self.color = color\n",
    "        self.thickness = thickness\n",
    "        self.width = width\n",
    "        self.height = height\n",
    "    def __str__(self):\n",
    "        return f\"Rectangle ({self.width}x{self.height})\"\n",
    "    def __repr__(self):\n",
    "        return f\"Rectangle ({self.width},{self.height})\""
   ]
  },
  {
   "cell_type": "code",
   "execution_count": 31,
   "id": "c1b57a2c",
   "metadata": {},
   "outputs": [],
   "source": [
    "class Rectangle(shape):\n",
    "    def __init__(self, width, height,color, thickness):\n",
    "        super().__init__(color,thickness)\n",
    "        self.width = width\n",
    "        self.height = height\n",
    "    "
   ]
  },
  {
   "cell_type": "code",
   "execution_count": 32,
   "id": "ea27d891",
   "metadata": {},
   "outputs": [],
   "source": [
    "r = Rectangle(3,4,'Blue',1)"
   ]
  },
  {
   "cell_type": "code",
   "execution_count": 33,
   "id": "fb2f3564",
   "metadata": {},
   "outputs": [
    {
     "data": {
      "text/plain": [
       "'Blue'"
      ]
     },
     "execution_count": 33,
     "metadata": {},
     "output_type": "execute_result"
    }
   ],
   "source": [
    "r.color"
   ]
  },
  {
   "cell_type": "code",
   "execution_count": 34,
   "id": "6f2c7357",
   "metadata": {},
   "outputs": [
    {
     "data": {
      "text/plain": [
       "'shape in Blue'"
      ]
     },
     "execution_count": 34,
     "metadata": {},
     "output_type": "execute_result"
    }
   ],
   "source": [
    "str(r)"
   ]
  },
  {
   "cell_type": "code",
   "execution_count": 35,
   "id": "42feb978",
   "metadata": {},
   "outputs": [],
   "source": [
    "class Rectangle(shape):\n",
    "    def __init__(self, width, height,color, thickness):\n",
    "        super().__init__(color,thickness)\n",
    "        self.width = width\n",
    "        self.height = height\n",
    "    # extended methods\n",
    "    def area(self):\n",
    "        return self.width*self.height\n",
    "    def priemeter(self):\n",
    "        return 2*(self.width+self.height)\n",
    "    # overridden methods\n",
    "        self.height = height\n",
    "    def __str__(self):\n",
    "        return f\"Rectangle ({self.width}x{self.height})\"\n",
    "    def __repr__(self):\n",
    "        return f\"Rectangle ({self.width},{self.height})\"\n",
    "    "
   ]
  },
  {
   "cell_type": "code",
   "execution_count": 36,
   "id": "2a72a6b4",
   "metadata": {},
   "outputs": [],
   "source": [
    "r = Rectangle(3,4,'Blue',1)"
   ]
  },
  {
   "cell_type": "code",
   "execution_count": 38,
   "id": "4080d818",
   "metadata": {},
   "outputs": [
    {
     "data": {
      "text/plain": [
       "12"
      ]
     },
     "execution_count": 38,
     "metadata": {},
     "output_type": "execute_result"
    }
   ],
   "source": [
    "r.area()"
   ]
  },
  {
   "cell_type": "code",
   "execution_count": 39,
   "id": "f482aad7",
   "metadata": {},
   "outputs": [
    {
     "data": {
      "text/plain": [
       "14"
      ]
     },
     "execution_count": 39,
     "metadata": {},
     "output_type": "execute_result"
    }
   ],
   "source": [
    "r.priemeter()"
   ]
  },
  {
   "cell_type": "markdown",
   "id": "99fe695f",
   "metadata": {},
   "source": [
    "### Multilevel inheritance"
   ]
  },
  {
   "cell_type": "code",
   "execution_count": 40,
   "id": "974ca3a7",
   "metadata": {},
   "outputs": [],
   "source": [
    "class Square(Rectangle):\n",
    "    def __init__(self,length, color, thickness):\n",
    "        super().__init__(length,length,color,thickness)"
   ]
  },
  {
   "cell_type": "code",
   "execution_count": 41,
   "id": "0e4b0225",
   "metadata": {},
   "outputs": [],
   "source": [
    "s = Square(3,'purple',0.1)"
   ]
  },
  {
   "cell_type": "code",
   "execution_count": 42,
   "id": "35ef5f0f",
   "metadata": {},
   "outputs": [
    {
     "data": {
      "text/plain": [
       "9"
      ]
     },
     "execution_count": 42,
     "metadata": {},
     "output_type": "execute_result"
    }
   ],
   "source": [
    "s.area()"
   ]
  },
  {
   "cell_type": "code",
   "execution_count": 43,
   "id": "e6afab7c",
   "metadata": {},
   "outputs": [
    {
     "name": "stdout",
     "output_type": "stream",
     "text": [
      "Rectangle (3x3)\n"
     ]
    }
   ],
   "source": [
    "print(s)"
   ]
  },
  {
   "cell_type": "markdown",
   "id": "4f97d2b3",
   "metadata": {},
   "source": [
    "### Hierarchial Inheritance"
   ]
  },
  {
   "cell_type": "code",
   "execution_count": 44,
   "id": "e3b16b53",
   "metadata": {},
   "outputs": [],
   "source": [
    "import math"
   ]
  },
  {
   "cell_type": "code",
   "execution_count": 50,
   "id": "140129a1",
   "metadata": {},
   "outputs": [],
   "source": [
    "class circle(shape):\n",
    "    def __init__(self, r, color, thickness):\n",
    "        super().__init__(color,thickness)\n",
    "        self.r = r\n",
    "    \n",
    "    def area(self):\n",
    "        return math.pi * (self.r ** 2)\n",
    "    def priemeter(self):\n",
    "        return 2 * math.pi * self.r"
   ]
  },
  {
   "cell_type": "code",
   "execution_count": 54,
   "id": "b6340443",
   "metadata": {},
   "outputs": [],
   "source": [
    "c = circle(1,'orange',0.3)"
   ]
  },
  {
   "cell_type": "code",
   "execution_count": 55,
   "id": "bf7f54f4",
   "metadata": {},
   "outputs": [
    {
     "data": {
      "text/plain": [
       "3.141592653589793"
      ]
     },
     "execution_count": 55,
     "metadata": {},
     "output_type": "execute_result"
    }
   ],
   "source": [
    "c.area()"
   ]
  },
  {
   "cell_type": "code",
   "execution_count": 56,
   "id": "1bda3010",
   "metadata": {},
   "outputs": [
    {
     "data": {
      "text/plain": [
       "6.283185307179586"
      ]
     },
     "execution_count": 56,
     "metadata": {},
     "output_type": "execute_result"
    }
   ],
   "source": [
    "c.priemeter()"
   ]
  },
  {
   "cell_type": "markdown",
   "id": "c49f4fcc",
   "metadata": {},
   "source": [
    "### issubclass( ) & isintance( )"
   ]
  },
  {
   "cell_type": "code",
   "execution_count": 57,
   "id": "be5dd569",
   "metadata": {},
   "outputs": [
    {
     "data": {
      "text/plain": [
       "True"
      ]
     },
     "execution_count": 57,
     "metadata": {},
     "output_type": "execute_result"
    }
   ],
   "source": [
    "issubclass(Square,shape)"
   ]
  },
  {
   "cell_type": "code",
   "execution_count": 59,
   "id": "7ecc4d87",
   "metadata": {},
   "outputs": [
    {
     "data": {
      "text/plain": [
       "True"
      ]
     },
     "execution_count": 59,
     "metadata": {},
     "output_type": "execute_result"
    }
   ],
   "source": [
    "isinstance(c,circle)"
   ]
  },
  {
   "cell_type": "code",
   "execution_count": 60,
   "id": "443d52db",
   "metadata": {},
   "outputs": [
    {
     "data": {
      "text/plain": [
       "True"
      ]
     },
     "execution_count": 60,
     "metadata": {},
     "output_type": "execute_result"
    }
   ],
   "source": [
    "isinstance(c,shape)"
   ]
  },
  {
   "cell_type": "markdown",
   "id": "5e2a453e",
   "metadata": {},
   "source": [
    "All of the classes that are defined inherit from a class named object. This is the reason why instances of different classes have some default attributes."
   ]
  },
  {
   "cell_type": "markdown",
   "id": "5edae046",
   "metadata": {},
   "source": [
    "### Exception Inheritance"
   ]
  },
  {
   "cell_type": "markdown",
   "id": "6b5f8f09",
   "metadata": {},
   "source": [
    "Different Errors:"
   ]
  },
  {
   "cell_type": "code",
   "execution_count": 61,
   "id": "96000bec",
   "metadata": {},
   "outputs": [
    {
     "data": {
      "text/plain": [
       "['ArithmeticError',\n",
       " 'AssertionError',\n",
       " 'AttributeError',\n",
       " 'BaseException',\n",
       " 'BlockingIOError',\n",
       " 'BrokenPipeError',\n",
       " 'BufferError',\n",
       " 'BytesWarning',\n",
       " 'ChildProcessError',\n",
       " 'ConnectionAbortedError',\n",
       " 'ConnectionError',\n",
       " 'ConnectionRefusedError',\n",
       " 'ConnectionResetError',\n",
       " 'DeprecationWarning',\n",
       " 'EOFError',\n",
       " 'Ellipsis',\n",
       " 'EnvironmentError',\n",
       " 'Exception',\n",
       " 'False',\n",
       " 'FileExistsError',\n",
       " 'FileNotFoundError',\n",
       " 'FloatingPointError',\n",
       " 'FutureWarning',\n",
       " 'GeneratorExit',\n",
       " 'IOError',\n",
       " 'ImportError',\n",
       " 'ImportWarning',\n",
       " 'IndentationError',\n",
       " 'IndexError',\n",
       " 'InterruptedError',\n",
       " 'IsADirectoryError',\n",
       " 'KeyError',\n",
       " 'KeyboardInterrupt',\n",
       " 'LookupError',\n",
       " 'MemoryError',\n",
       " 'ModuleNotFoundError',\n",
       " 'NameError',\n",
       " 'None',\n",
       " 'NotADirectoryError',\n",
       " 'NotImplemented',\n",
       " 'NotImplementedError',\n",
       " 'OSError',\n",
       " 'OverflowError',\n",
       " 'PendingDeprecationWarning',\n",
       " 'PermissionError',\n",
       " 'ProcessLookupError',\n",
       " 'RecursionError',\n",
       " 'ReferenceError',\n",
       " 'ResourceWarning',\n",
       " 'RuntimeError',\n",
       " 'RuntimeWarning',\n",
       " 'StopAsyncIteration',\n",
       " 'StopIteration',\n",
       " 'SyntaxError',\n",
       " 'SyntaxWarning',\n",
       " 'SystemError',\n",
       " 'SystemExit',\n",
       " 'TabError',\n",
       " 'TimeoutError',\n",
       " 'True',\n",
       " 'TypeError',\n",
       " 'UnboundLocalError',\n",
       " 'UnicodeDecodeError',\n",
       " 'UnicodeEncodeError',\n",
       " 'UnicodeError',\n",
       " 'UnicodeTranslateError',\n",
       " 'UnicodeWarning',\n",
       " 'UserWarning',\n",
       " 'ValueError',\n",
       " 'Warning',\n",
       " 'ZeroDivisionError',\n",
       " '__IPYTHON__',\n",
       " '__build_class__',\n",
       " '__debug__',\n",
       " '__doc__',\n",
       " '__import__',\n",
       " '__loader__',\n",
       " '__name__',\n",
       " '__package__',\n",
       " '__spec__',\n",
       " 'abs',\n",
       " 'all',\n",
       " 'any',\n",
       " 'ascii',\n",
       " 'bin',\n",
       " 'bool',\n",
       " 'breakpoint',\n",
       " 'bytearray',\n",
       " 'bytes',\n",
       " 'callable',\n",
       " 'chr',\n",
       " 'classmethod',\n",
       " 'compile',\n",
       " 'complex',\n",
       " 'copyright',\n",
       " 'credits',\n",
       " 'delattr',\n",
       " 'dict',\n",
       " 'dir',\n",
       " 'display',\n",
       " 'divmod',\n",
       " 'enumerate',\n",
       " 'eval',\n",
       " 'exec',\n",
       " 'execfile',\n",
       " 'filter',\n",
       " 'float',\n",
       " 'format',\n",
       " 'frozenset',\n",
       " 'get_ipython',\n",
       " 'getattr',\n",
       " 'globals',\n",
       " 'hasattr',\n",
       " 'hash',\n",
       " 'help',\n",
       " 'hex',\n",
       " 'id',\n",
       " 'input',\n",
       " 'int',\n",
       " 'isinstance',\n",
       " 'issubclass',\n",
       " 'iter',\n",
       " 'len',\n",
       " 'license',\n",
       " 'list',\n",
       " 'locals',\n",
       " 'map',\n",
       " 'max',\n",
       " 'memoryview',\n",
       " 'min',\n",
       " 'next',\n",
       " 'object',\n",
       " 'oct',\n",
       " 'open',\n",
       " 'ord',\n",
       " 'pow',\n",
       " 'print',\n",
       " 'property',\n",
       " 'range',\n",
       " 'repr',\n",
       " 'reversed',\n",
       " 'round',\n",
       " 'runfile',\n",
       " 'set',\n",
       " 'setattr',\n",
       " 'slice',\n",
       " 'sorted',\n",
       " 'staticmethod',\n",
       " 'str',\n",
       " 'sum',\n",
       " 'super',\n",
       " 'tuple',\n",
       " 'type',\n",
       " 'vars',\n",
       " 'zip']"
      ]
     },
     "execution_count": 61,
     "metadata": {},
     "output_type": "execute_result"
    }
   ],
   "source": [
    "dir(__builtins__)"
   ]
  },
  {
   "cell_type": "markdown",
   "id": "aad24177",
   "metadata": {},
   "source": [
    "You can also raise an Error in classes."
   ]
  },
  {
   "cell_type": "code",
   "execution_count": 62,
   "id": "25f00ff1",
   "metadata": {},
   "outputs": [],
   "source": [
    "x = [10, 2, 3]"
   ]
  },
  {
   "cell_type": "code",
   "execution_count": 65,
   "id": "bae7e9bb",
   "metadata": {},
   "outputs": [
    {
     "ename": "IndexError",
     "evalue": "Item is greater than 8",
     "output_type": "error",
     "traceback": [
      "\u001b[0;31m---------------------------------------------------------------------------\u001b[0m",
      "\u001b[0;31mIndexError\u001b[0m                                Traceback (most recent call last)",
      "\u001b[0;32m/var/folders/05/bygg4rdj3n7543jkngl6k6z40000gn/T/ipykernel_65542/1870518896.py\u001b[0m in \u001b[0;36m<module>\u001b[0;34m\u001b[0m\n\u001b[1;32m      1\u001b[0m \u001b[0;32mif\u001b[0m \u001b[0mx\u001b[0m\u001b[0;34m[\u001b[0m\u001b[0;36m0\u001b[0m\u001b[0;34m]\u001b[0m \u001b[0;34m>\u001b[0m \u001b[0;36m8\u001b[0m\u001b[0;34m:\u001b[0m\u001b[0;34m\u001b[0m\u001b[0;34m\u001b[0m\u001b[0m\n\u001b[0;32m----> 2\u001b[0;31m     \u001b[0;32mraise\u001b[0m \u001b[0mIndexError\u001b[0m\u001b[0;34m(\u001b[0m\u001b[0;34m\"Item is greater than 8\"\u001b[0m\u001b[0;34m)\u001b[0m\u001b[0;34m\u001b[0m\u001b[0;34m\u001b[0m\u001b[0m\n\u001b[0m",
      "\u001b[0;31mIndexError\u001b[0m: Item is greater than 8"
     ]
    }
   ],
   "source": [
    "if x[0] > 8:\n",
    "    raise IndexError(\"Item is greater than 8\")"
   ]
  },
  {
   "cell_type": "markdown",
   "id": "9b7a8e92",
   "metadata": {},
   "source": [
    "### Abstract Classes"
   ]
  },
  {
   "cell_type": "markdown",
   "id": "85a46303",
   "metadata": {},
   "source": [
    "classes that are only used to be inherited from."
   ]
  },
  {
   "cell_type": "code",
   "execution_count": 67,
   "id": "5ef2c7de",
   "metadata": {},
   "outputs": [],
   "source": [
    "from abc import ABC, abstractmethod"
   ]
  },
  {
   "cell_type": "code",
   "execution_count": 69,
   "id": "92ab7542",
   "metadata": {},
   "outputs": [],
   "source": [
    "class Shape(ABC):\n",
    "    def __init__(self,color = 'Black'):\n",
    "        self.color = color\n",
    "        \n",
    "    @abstractmethod   #decorator\n",
    "    def area(self):\n",
    "        pass"
   ]
  },
  {
   "cell_type": "code",
   "execution_count": 70,
   "id": "eec87ca6",
   "metadata": {},
   "outputs": [
    {
     "ename": "TypeError",
     "evalue": "Can't instantiate abstract class Shape with abstract method area",
     "output_type": "error",
     "traceback": [
      "\u001b[0;31m---------------------------------------------------------------------------\u001b[0m",
      "\u001b[0;31mTypeError\u001b[0m                                 Traceback (most recent call last)",
      "\u001b[0;32m/var/folders/05/bygg4rdj3n7543jkngl6k6z40000gn/T/ipykernel_65542/2079929029.py\u001b[0m in \u001b[0;36m<module>\u001b[0;34m\u001b[0m\n\u001b[0;32m----> 1\u001b[0;31m \u001b[0msh2\u001b[0m \u001b[0;34m=\u001b[0m \u001b[0mShape\u001b[0m\u001b[0;34m(\u001b[0m\u001b[0;34m)\u001b[0m\u001b[0;34m\u001b[0m\u001b[0;34m\u001b[0m\u001b[0m\n\u001b[0m",
      "\u001b[0;31mTypeError\u001b[0m: Can't instantiate abstract class Shape with abstract method area"
     ]
    }
   ],
   "source": [
    "sh2 = Shape()"
   ]
  },
  {
   "cell_type": "code",
   "execution_count": 71,
   "id": "06ea53a7",
   "metadata": {},
   "outputs": [],
   "source": [
    "class Rect(Shape):\n",
    "    def __init__(self,width, height):\n",
    "        self.width = width\n",
    "        self.height = height"
   ]
  },
  {
   "cell_type": "code",
   "execution_count": 73,
   "id": "e4b8b9ed",
   "metadata": {},
   "outputs": [
    {
     "ename": "TypeError",
     "evalue": "Can't instantiate abstract class Rect with abstract method area",
     "output_type": "error",
     "traceback": [
      "\u001b[0;31m---------------------------------------------------------------------------\u001b[0m",
      "\u001b[0;31mTypeError\u001b[0m                                 Traceback (most recent call last)",
      "\u001b[0;32m/var/folders/05/bygg4rdj3n7543jkngl6k6z40000gn/T/ipykernel_65542/3079529644.py\u001b[0m in \u001b[0;36m<module>\u001b[0;34m\u001b[0m\n\u001b[0;32m----> 1\u001b[0;31m \u001b[0mrect\u001b[0m  \u001b[0;34m=\u001b[0m \u001b[0mRect\u001b[0m\u001b[0;34m(\u001b[0m\u001b[0;36m3\u001b[0m\u001b[0;34m,\u001b[0m\u001b[0;36m4\u001b[0m\u001b[0;34m)\u001b[0m\u001b[0;34m\u001b[0m\u001b[0;34m\u001b[0m\u001b[0m\n\u001b[0m",
      "\u001b[0;31mTypeError\u001b[0m: Can't instantiate abstract class Rect with abstract method area"
     ]
    }
   ],
   "source": [
    "rect  = Rect(3,4)"
   ]
  },
  {
   "cell_type": "code",
   "execution_count": 77,
   "id": "5abc7ba3",
   "metadata": {},
   "outputs": [],
   "source": [
    "class Rect(Shape):\n",
    "    def __init__(self,width, height):\n",
    "        self.width = width\n",
    "        self.height = height\n",
    "    def area(self):\n",
    "        return self.width * self.height"
   ]
  },
  {
   "cell_type": "code",
   "execution_count": 78,
   "id": "7eb73fdb",
   "metadata": {},
   "outputs": [],
   "source": [
    "rect = Rect(3,4)"
   ]
  },
  {
   "cell_type": "code",
   "execution_count": 79,
   "id": "dcbb3a07",
   "metadata": {},
   "outputs": [
    {
     "data": {
      "text/plain": [
       "12"
      ]
     },
     "execution_count": 79,
     "metadata": {},
     "output_type": "execute_result"
    }
   ],
   "source": [
    "rect.area()"
   ]
  },
  {
   "cell_type": "markdown",
   "id": "b6d20b4a",
   "metadata": {},
   "source": [
    "Basically, it means that when a class inherits from another class, it is forced to define the abstract method as well. Also, we cannot instant an object from a class that inherits from ABC."
   ]
  }
 ],
 "metadata": {
  "kernelspec": {
   "display_name": "Python 3 (ipykernel)",
   "language": "python",
   "name": "python3"
  },
  "language_info": {
   "codemirror_mode": {
    "name": "ipython",
    "version": 3
   },
   "file_extension": ".py",
   "mimetype": "text/x-python",
   "name": "python",
   "nbconvert_exporter": "python",
   "pygments_lexer": "ipython3",
   "version": "3.9.7"
  }
 },
 "nbformat": 4,
 "nbformat_minor": 5
}
