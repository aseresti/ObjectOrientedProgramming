{
 "cells": [
  {
   "cell_type": "markdown",
   "id": "1bde62dc",
   "metadata": {},
   "source": [
    "# Object Oriented Programming Paradigm"
   ]
  },
  {
   "cell_type": "markdown",
   "id": "6847b9f3",
   "metadata": {},
   "source": [
    "Paradigm means the style or pattern of writing the code. It is not the programming itself. Two examples of paradigm are functional programing and object oriented programming which both of them are being used in python. I learned the functional programming in the basics of python - a repo with the same name on my Github- This repo is about defining classes and the idea behind them."
   ]
  },
  {
   "cell_type": "markdown",
   "id": "e163c641",
   "metadata": {},
   "source": [
    "## Terminology"
   ]
  },
  {
   "cell_type": "markdown",
   "id": "9688a7ce",
   "metadata": {},
   "source": [
    "Class: a blueprint of an instance. like humans, students. I am a student: I am an instant of the \"Students\" class. It works like a title.\n",
    "Type: Indicated the class that the instance blongs to.\n",
    "Attribute: The values that their variable are shared between the instance of each class. For example, each student has a different eye color. \"Eye color\" is an attribute and the value of that for each instance is different.\n",
    "Method: a callable attribute in the class. It is like an action.\n"
   ]
  },
  {
   "cell_type": "markdown",
   "id": "f71196b6",
   "metadata": {},
   "source": [
    "## Function vs. Method"
   ]
  },
  {
   "cell_type": "markdown",
   "id": "bf68f6c5",
   "metadata": {},
   "source": [
    "In the OOP context, we call the functions as methods. Method means a function that is run on an \"object\""
   ]
  },
  {
   "cell_type": "markdown",
   "id": "4a19b868",
   "metadata": {},
   "source": [
    "## OOP in Python"
   ]
  },
  {
   "cell_type": "markdown",
   "id": "16739f71",
   "metadata": {},
   "source": [
    "The students class as an example, contains several object such as id, GPA, and also a method named registration."
   ]
  },
  {
   "cell_type": "code",
   "execution_count": 1,
   "id": "75b6f322",
   "metadata": {},
   "outputs": [],
   "source": [
    "class Students:\n",
    "    \n",
    "    # constructor\n",
    "    # dunder method (double under method)\n",
    "    # __init__() is what happens in the background for the object\n",
    "    # self is the object\n",
    "    def __init__(self):\n",
    "        print('constructor is called')\n",
    "    \n",
    "    def register(self):\n",
    "        print('register is called')"
   ]
  },
  {
   "cell_type": "code",
   "execution_count": 2,
   "id": "6fbb21fc",
   "metadata": {},
   "outputs": [
    {
     "name": "stdout",
     "output_type": "stream",
     "text": [
      "constructor is called\n"
     ]
    }
   ],
   "source": [
    "obj = Students()"
   ]
  },
  {
   "cell_type": "code",
   "execution_count": 3,
   "id": "c6aebeb3",
   "metadata": {},
   "outputs": [
    {
     "name": "stdout",
     "output_type": "stream",
     "text": [
      "constructor is called\n"
     ]
    }
   ],
   "source": [
    "obj_2 = Students()"
   ]
  },
  {
   "cell_type": "code",
   "execution_count": 4,
   "id": "5abeefb3",
   "metadata": {},
   "outputs": [
    {
     "data": {
      "text/plain": [
       "False"
      ]
     },
     "execution_count": 4,
     "metadata": {},
     "output_type": "execute_result"
    }
   ],
   "source": [
    "obj_2 is obj"
   ]
  },
  {
   "cell_type": "code",
   "execution_count": 5,
   "id": "a40303eb",
   "metadata": {},
   "outputs": [
    {
     "name": "stdout",
     "output_type": "stream",
     "text": [
      "register is called\n"
     ]
    }
   ],
   "source": [
    "#students.register(obj) sintax suger\n",
    "obj.register()"
   ]
  },
  {
   "cell_type": "markdown",
   "id": "431f7483",
   "metadata": {},
   "source": [
    "### How to attach attributes to the object?"
   ]
  },
  {
   "cell_type": "code",
   "execution_count": 6,
   "id": "0de25394",
   "metadata": {},
   "outputs": [],
   "source": [
    "obj.st_id = 10"
   ]
  },
  {
   "cell_type": "code",
   "execution_count": 8,
   "id": "d457fea5",
   "metadata": {},
   "outputs": [],
   "source": [
    "obj.courses = ['math', 'geology', 'biology']"
   ]
  },
  {
   "cell_type": "markdown",
   "id": "9d7c3a49",
   "metadata": {},
   "source": [
    "Each objects can have different number of attributes. Also, it can be defined on the class."
   ]
  },
  {
   "cell_type": "code",
   "execution_count": 9,
   "id": "f781eb93",
   "metadata": {},
   "outputs": [],
   "source": [
    "class Students: \n",
    "    def __init__(self, st_id, courses):\n",
    "        self.st_id = st_id\n",
    "        self.courses = courses"
   ]
  },
  {
   "cell_type": "code",
   "execution_count": 10,
   "id": "80cd501d",
   "metadata": {},
   "outputs": [],
   "source": [
    "Ali = Students('9023026', ['math','geography'])"
   ]
  },
  {
   "cell_type": "code",
   "execution_count": 11,
   "id": "c0b56c97",
   "metadata": {},
   "outputs": [
    {
     "data": {
      "text/plain": [
       "'9023026'"
      ]
     },
     "execution_count": 11,
     "metadata": {},
     "output_type": "execute_result"
    }
   ],
   "source": [
    "Ali.st_id"
   ]
  },
  {
   "cell_type": "markdown",
   "id": "0f6eadd5",
   "metadata": {},
   "source": [
    "However, still the object is open to accept new attributes other than those of the class. Also, the attributes can have a default attribute."
   ]
  },
  {
   "cell_type": "markdown",
   "id": "14c96be3",
   "metadata": {},
   "source": [
    "#### Object Attribute"
   ]
  },
  {
   "cell_type": "code",
   "execution_count": 14,
   "id": "0bbb381d",
   "metadata": {},
   "outputs": [],
   "source": [
    "class Students: \n",
    "    def __init__(self, st_id, courses):\n",
    "        self.st_id = st_id\n",
    "        self.courses = courses\n",
    "        self.university = 'University of Alberta'"
   ]
  },
  {
   "cell_type": "code",
   "execution_count": 15,
   "id": "86060f73",
   "metadata": {},
   "outputs": [],
   "source": [
    "Ali = Students('9023026', ['math','geography'])"
   ]
  },
  {
   "cell_type": "code",
   "execution_count": 16,
   "id": "82a40bf0",
   "metadata": {},
   "outputs": [
    {
     "data": {
      "text/plain": [
       "'University of Alberta'"
      ]
     },
     "execution_count": 16,
     "metadata": {},
     "output_type": "execute_result"
    }
   ],
   "source": [
    "Ali.university"
   ]
  },
  {
   "cell_type": "markdown",
   "id": "424a38f0",
   "metadata": {},
   "source": [
    "#### Class Attribute\n",
    "The problem with instance attribute is that it is making and attribute for every object that is defined in this class, and for a large number of objects this uses a huge memory."
   ]
  },
  {
   "cell_type": "code",
   "execution_count": 17,
   "id": "5bbff051",
   "metadata": {},
   "outputs": [],
   "source": [
    "class Students: \n",
    "    university = 'University of Alberta'\n",
    "    def __init__(self, st_id, courses):\n",
    "        self.st_id = st_id\n",
    "        self.courses = courses"
   ]
  },
  {
   "cell_type": "code",
   "execution_count": 18,
   "id": "5a3b26ce",
   "metadata": {},
   "outputs": [],
   "source": [
    "Ali = Students('9023026', ['math','geography'])"
   ]
  },
  {
   "cell_type": "code",
   "execution_count": 19,
   "id": "03368d88",
   "metadata": {},
   "outputs": [
    {
     "data": {
      "text/plain": [
       "'University of Alberta'"
      ]
     },
     "execution_count": 19,
     "metadata": {},
     "output_type": "execute_result"
    }
   ],
   "source": [
    "Ali.university"
   ]
  },
  {
   "cell_type": "markdown",
   "id": "582f1141",
   "metadata": {},
   "source": [
    "## Dunder Methods"
   ]
  },
  {
   "cell_type": "code",
   "execution_count": 20,
   "id": "3deac27c",
   "metadata": {},
   "outputs": [],
   "source": [
    "class Students: \n",
    "    university = 'University of Alberta'\n",
    "    def __init__(self, st_id, courses):\n",
    "        self.st_id = st_id\n",
    "        self.courses = courses"
   ]
  },
  {
   "cell_type": "code",
   "execution_count": 21,
   "id": "25516694",
   "metadata": {},
   "outputs": [],
   "source": [
    "Ali = Students('9023026', ['math','geography'])"
   ]
  },
  {
   "cell_type": "code",
   "execution_count": 22,
   "id": "055cf151",
   "metadata": {},
   "outputs": [
    {
     "name": "stdout",
     "output_type": "stream",
     "text": [
      "<__main__.Students object at 0x7fea8000e0a0>\n"
     ]
    }
   ],
   "source": [
    "print(Ali)"
   ]
  },
  {
   "cell_type": "code",
   "execution_count": 24,
   "id": "a239a3dd",
   "metadata": {},
   "outputs": [],
   "source": [
    "class Students: \n",
    "    university = 'University of Alberta'\n",
    "    def __init__(self, st_id, courses):\n",
    "        self.st_id = st_id\n",
    "        self.courses = courses\n",
    "        \n",
    "    def __str__(self):\n",
    "        return f'student with st_id: {self.st_id} and courses are {self.courses}'"
   ]
  },
  {
   "cell_type": "code",
   "execution_count": 25,
   "id": "0e331f52",
   "metadata": {},
   "outputs": [],
   "source": [
    "Ali = Students('9023026', ['math','geography'])"
   ]
  },
  {
   "cell_type": "code",
   "execution_count": 26,
   "id": "10ce91ad",
   "metadata": {},
   "outputs": [
    {
     "name": "stdout",
     "output_type": "stream",
     "text": [
      "student with st_id: 9023026 and courses are ['math', 'geography']\n"
     ]
    }
   ],
   "source": [
    "print(Ali)"
   ]
  },
  {
   "cell_type": "markdown",
   "id": "8651248b",
   "metadata": {},
   "source": [
    "By default, all of the objects are True. That can be changed using the __bool__"
   ]
  },
  {
   "cell_type": "code",
   "execution_count": 39,
   "id": "22d04743",
   "metadata": {},
   "outputs": [],
   "source": [
    "class Students: \n",
    "    university = 'University of Alberta'\n",
    "    def __init__(self, st_id, courses):\n",
    "        self.st_id = st_id\n",
    "        self.courses = courses\n",
    "        self.is_registered = False\n",
    "        \n",
    "    def __str__(self):\n",
    "        return f'student with st_id: {self.st_id} and courses are {self.courses}'\n",
    "    def register(self):\n",
    "        #if is a member of a database\n",
    "        self.is_registered = True\n",
    "        \n",
    "    def __bool__(self):\n",
    "        return self.is_registered"
   ]
  },
  {
   "cell_type": "code",
   "execution_count": 40,
   "id": "52c856fb",
   "metadata": {},
   "outputs": [],
   "source": [
    "Ali = Students('9023026', ['math','geography'])"
   ]
  },
  {
   "cell_type": "code",
   "execution_count": 43,
   "id": "f001fd88",
   "metadata": {},
   "outputs": [
    {
     "data": {
      "text/plain": [
       "False"
      ]
     },
     "execution_count": 43,
     "metadata": {},
     "output_type": "execute_result"
    }
   ],
   "source": [
    "bool(Ali)"
   ]
  },
  {
   "cell_type": "markdown",
   "id": "84ed0814",
   "metadata": {},
   "source": [
    "Other dunder methods for an object:"
   ]
  },
  {
   "cell_type": "code",
   "execution_count": 42,
   "id": "8dc5a682",
   "metadata": {},
   "outputs": [
    {
     "data": {
      "text/plain": [
       "['__bool__',\n",
       " '__class__',\n",
       " '__delattr__',\n",
       " '__dict__',\n",
       " '__dir__',\n",
       " '__doc__',\n",
       " '__eq__',\n",
       " '__format__',\n",
       " '__ge__',\n",
       " '__getattribute__',\n",
       " '__gt__',\n",
       " '__hash__',\n",
       " '__init__',\n",
       " '__init_subclass__',\n",
       " '__le__',\n",
       " '__lt__',\n",
       " '__module__',\n",
       " '__ne__',\n",
       " '__new__',\n",
       " '__reduce__',\n",
       " '__reduce_ex__',\n",
       " '__repr__',\n",
       " '__setattr__',\n",
       " '__sizeof__',\n",
       " '__str__',\n",
       " '__subclasshook__',\n",
       " '__weakref__',\n",
       " 'courses',\n",
       " 'is_registered',\n",
       " 'register',\n",
       " 'st_id',\n",
       " 'university']"
      ]
     },
     "execution_count": 42,
     "metadata": {},
     "output_type": "execute_result"
    }
   ],
   "source": [
    "dir(Ali)"
   ]
  }
 ],
 "metadata": {
  "kernelspec": {
   "display_name": "Python 3 (ipykernel)",
   "language": "python",
   "name": "python3"
  },
  "language_info": {
   "codemirror_mode": {
    "name": "ipython",
    "version": 3
   },
   "file_extension": ".py",
   "mimetype": "text/x-python",
   "name": "python",
   "nbconvert_exporter": "python",
   "pygments_lexer": "ipython3",
   "version": "3.9.7"
  }
 },
 "nbformat": 4,
 "nbformat_minor": 5
}
