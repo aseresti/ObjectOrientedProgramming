{
 "cells": [
  {
   "cell_type": "markdown",
   "id": "ce23ce49",
   "metadata": {},
   "source": [
    "# Object Oriented Programming Paradigm"
   ]
  },
  {
   "cell_type": "markdown",
   "id": "e4d1ccef",
   "metadata": {},
   "source": [
    "Paradigm means the style or pattern of writing the code. It is not the programming itself. Two examples of paradigm are functional programing and object oriented programming which both of them are being used in python. I learned the functional programming in the basics of python - a repo with the same name on my Github- This repo is about defining classes and the idea behind them."
   ]
  },
  {
   "cell_type": "markdown",
   "id": "2c00a7d7",
   "metadata": {},
   "source": [
    "## Terminology"
   ]
  },
  {
   "cell_type": "markdown",
   "id": "44e7d7aa",
   "metadata": {},
   "source": [
    "Class: a blueprint of an instance. like humans, students. I am a student: I am an instant of the \"Students\" class. It works like a title.\n",
    "Type: Indicated the class that the instance blongs to.\n",
    "Attribute: The values that their variable are shared between the instance of each class. For example, each student has a different eye color. \"Eye color\" is an attribute and the value of that for each instance is different.\n",
    "Method: a callable attribute in the class. It is like an action.\n"
   ]
  },
  {
   "cell_type": "markdown",
   "id": "8136b65f",
   "metadata": {},
   "source": [
    "## Function vs. Method"
   ]
  },
  {
   "cell_type": "markdown",
   "id": "703f4829",
   "metadata": {},
   "source": [
    "In the OOP context, we call the functions as methods. Method means a function that is run on an \"object\""
   ]
  },
  {
   "cell_type": "markdown",
   "id": "5ea7c908",
   "metadata": {},
   "source": [
    "## OOP in Python"
   ]
  },
  {
   "cell_type": "markdown",
   "id": "319e1d90",
   "metadata": {},
   "source": [
    "The students class as an example, contains several object such as id, GPA, and also a method named registration."
   ]
  },
  {
   "cell_type": "code",
   "execution_count": 1,
   "id": "4ed5467a",
   "metadata": {},
   "outputs": [],
   "source": [
    "class Students:\n",
    "    \n",
    "    # constructor\n",
    "    # dunder method (double under method)\n",
    "    # __init__() is what happens in the background for the object\n",
    "    # self is the object\n",
    "    def __init__(self):\n",
    "        print('constructor is called')\n",
    "    \n",
    "    def register(self):\n",
    "        print('register is called')"
   ]
  },
  {
   "cell_type": "code",
   "execution_count": 2,
   "id": "f6ded03c",
   "metadata": {},
   "outputs": [
    {
     "name": "stdout",
     "output_type": "stream",
     "text": [
      "constructor is called\n"
     ]
    }
   ],
   "source": [
    "obj = Students()"
   ]
  },
  {
   "cell_type": "code",
   "execution_count": 3,
   "id": "e1a44aca",
   "metadata": {},
   "outputs": [
    {
     "name": "stdout",
     "output_type": "stream",
     "text": [
      "constructor is called\n"
     ]
    }
   ],
   "source": [
    "obj_2 = Students()"
   ]
  },
  {
   "cell_type": "code",
   "execution_count": 4,
   "id": "ace8e220",
   "metadata": {},
   "outputs": [
    {
     "data": {
      "text/plain": [
       "False"
      ]
     },
     "execution_count": 4,
     "metadata": {},
     "output_type": "execute_result"
    }
   ],
   "source": [
    "obj_2 is obj"
   ]
  },
  {
   "cell_type": "code",
   "execution_count": 5,
   "id": "f07d3390",
   "metadata": {},
   "outputs": [
    {
     "name": "stdout",
     "output_type": "stream",
     "text": [
      "register is called\n"
     ]
    }
   ],
   "source": [
    "#students.register(obj) syntax suger\n",
    "obj.register()"
   ]
  },
  {
   "cell_type": "markdown",
   "id": "658f81a6",
   "metadata": {},
   "source": [
    "### How to attach attributes to the object?"
   ]
  },
  {
   "cell_type": "code",
   "execution_count": 6,
   "id": "e0b084d7",
   "metadata": {},
   "outputs": [],
   "source": [
    "obj.st_id = 10"
   ]
  },
  {
   "cell_type": "code",
   "execution_count": 8,
   "id": "a0a50fbb",
   "metadata": {},
   "outputs": [],
   "source": [
    "obj.courses = ['math', 'geology', 'biology']"
   ]
  },
  {
   "cell_type": "markdown",
   "id": "d4feee83",
   "metadata": {},
   "source": [
    "Each objects can have different number of attributes. Also, it can be defined on the class."
   ]
  },
  {
   "cell_type": "code",
   "execution_count": 9,
   "id": "99a7b87e",
   "metadata": {},
   "outputs": [],
   "source": [
    "class Students: \n",
    "    def __init__(self, st_id, courses):\n",
    "        self.st_id = st_id\n",
    "        self.courses = courses"
   ]
  },
  {
   "cell_type": "code",
   "execution_count": 10,
   "id": "19264d84",
   "metadata": {},
   "outputs": [],
   "source": [
    "Ali = Students('9023026', ['math','geography'])"
   ]
  },
  {
   "cell_type": "code",
   "execution_count": 11,
   "id": "c8e9cbe0",
   "metadata": {},
   "outputs": [
    {
     "data": {
      "text/plain": [
       "'9023026'"
      ]
     },
     "execution_count": 11,
     "metadata": {},
     "output_type": "execute_result"
    }
   ],
   "source": [
    "Ali.st_id"
   ]
  },
  {
   "cell_type": "markdown",
   "id": "461b3432",
   "metadata": {},
   "source": [
    "However, still the object is open to accept new attributes other than those of the class. Also, the attributes can have a default attribute."
   ]
  },
  {
   "cell_type": "markdown",
   "id": "e6b31a75",
   "metadata": {},
   "source": [
    "#### Object Attribute"
   ]
  },
  {
   "cell_type": "code",
   "execution_count": 14,
   "id": "51779b53",
   "metadata": {},
   "outputs": [],
   "source": [
    "class Students: \n",
    "    def __init__(self, st_id, courses):\n",
    "        self.st_id = st_id\n",
    "        self.courses = courses\n",
    "        self.university = 'University of Alberta'"
   ]
  },
  {
   "cell_type": "code",
   "execution_count": 15,
   "id": "f8b1f145",
   "metadata": {},
   "outputs": [],
   "source": [
    "Ali = Students('9023026', ['math','geography'])"
   ]
  },
  {
   "cell_type": "code",
   "execution_count": 16,
   "id": "c34e189b",
   "metadata": {},
   "outputs": [
    {
     "data": {
      "text/plain": [
       "'University of Alberta'"
      ]
     },
     "execution_count": 16,
     "metadata": {},
     "output_type": "execute_result"
    }
   ],
   "source": [
    "Ali.university"
   ]
  },
  {
   "cell_type": "markdown",
   "id": "b69a0e37",
   "metadata": {},
   "source": [
    "#### Class Attribute\n",
    "The problem with instance attribute is that it is making and attribute for every object that is defined in this class, and for a large number of objects this uses a huge memory."
   ]
  },
  {
   "cell_type": "code",
   "execution_count": 17,
   "id": "685a5c7d",
   "metadata": {},
   "outputs": [],
   "source": [
    "class Students: \n",
    "    university = 'University of Alberta'\n",
    "    def __init__(self, st_id, courses):\n",
    "        self.st_id = st_id\n",
    "        self.courses = courses"
   ]
  },
  {
   "cell_type": "code",
   "execution_count": 18,
   "id": "d062f089",
   "metadata": {},
   "outputs": [],
   "source": [
    "Ali = Students('9023026', ['math','geography'])"
   ]
  },
  {
   "cell_type": "code",
   "execution_count": 19,
   "id": "271e0f6f",
   "metadata": {},
   "outputs": [
    {
     "data": {
      "text/plain": [
       "'University of Alberta'"
      ]
     },
     "execution_count": 19,
     "metadata": {},
     "output_type": "execute_result"
    }
   ],
   "source": [
    "Ali.university"
   ]
  },
  {
   "cell_type": "markdown",
   "id": "6c8467b9",
   "metadata": {},
   "source": [
    "## Dunder Methods"
   ]
  },
  {
   "cell_type": "code",
   "execution_count": 20,
   "id": "fdcc1a69",
   "metadata": {},
   "outputs": [],
   "source": [
    "class Students: \n",
    "    university = 'University of Alberta'\n",
    "    def __init__(self, st_id, courses):\n",
    "        self.st_id = st_id\n",
    "        self.courses = courses"
   ]
  },
  {
   "cell_type": "code",
   "execution_count": 21,
   "id": "c2d1edcf",
   "metadata": {},
   "outputs": [],
   "source": [
    "Ali = Students('9023026', ['math','geography'])"
   ]
  },
  {
   "cell_type": "code",
   "execution_count": 22,
   "id": "998ff700",
   "metadata": {},
   "outputs": [
    {
     "name": "stdout",
     "output_type": "stream",
     "text": [
      "<__main__.Students object at 0x7fea8000e0a0>\n"
     ]
    }
   ],
   "source": [
    "print(Ali)"
   ]
  },
  {
   "cell_type": "code",
   "execution_count": 1,
   "id": "01cb4750",
   "metadata": {},
   "outputs": [],
   "source": [
    "class Students: \n",
    "    university = 'University of Alberta'\n",
    "    def __init__(self, st_id, courses):\n",
    "        self.st_id = st_id\n",
    "        self.courses = courses\n",
    "        \n",
    "    def __str__(self):\n",
    "        return f'student with st_id: {self.st_id} and courses are {self.courses}'\n",
    "    def __repr__(self): # the best-practice for repr is to return the command defining the object\n",
    "        return f'Students({self.st_id},{self.courses})'"
   ]
  },
  {
   "cell_type": "code",
   "execution_count": 2,
   "id": "a775b6fc",
   "metadata": {},
   "outputs": [],
   "source": [
    "Ali = Students('9023026', ['math','geography'])"
   ]
  },
  {
   "cell_type": "code",
   "execution_count": 3,
   "id": "c13840d6",
   "metadata": {},
   "outputs": [
    {
     "data": {
      "text/plain": [
       "Students(9023026,['math', 'geography'])"
      ]
     },
     "execution_count": 3,
     "metadata": {},
     "output_type": "execute_result"
    }
   ],
   "source": [
    "Ali"
   ]
  },
  {
   "cell_type": "code",
   "execution_count": 26,
   "id": "fc6999a3",
   "metadata": {},
   "outputs": [
    {
     "name": "stdout",
     "output_type": "stream",
     "text": [
      "student with st_id: 9023026 and courses are ['math', 'geography']\n"
     ]
    }
   ],
   "source": [
    "print(Ali)"
   ]
  },
  {
   "cell_type": "markdown",
   "id": "2d4c22bc",
   "metadata": {},
   "source": [
    "By default, all of the objects are True. That can be changed using the __bool__"
   ]
  },
  {
   "cell_type": "code",
   "execution_count": 39,
   "id": "e5357e62",
   "metadata": {},
   "outputs": [],
   "source": [
    "class Students: \n",
    "    university = 'University of Alberta'\n",
    "    def __init__(self, st_id, courses):\n",
    "        self.st_id = st_id\n",
    "        self.courses = courses\n",
    "        self.is_registered = False\n",
    "        \n",
    "    def __str__(self):\n",
    "        return f'student with st_id: {self.st_id} and courses are {self.courses}'\n",
    "    def register(self):\n",
    "        #if is a member of a database\n",
    "        self.is_registered = True\n",
    "        \n",
    "    def __bool__(self):\n",
    "        return self.is_registered"
   ]
  },
  {
   "cell_type": "code",
   "execution_count": 40,
   "id": "7e7c6167",
   "metadata": {},
   "outputs": [],
   "source": [
    "Ali = Students('9023026', ['math','geography'])"
   ]
  },
  {
   "cell_type": "code",
   "execution_count": 43,
   "id": "8706d4b3",
   "metadata": {},
   "outputs": [
    {
     "data": {
      "text/plain": [
       "False"
      ]
     },
     "execution_count": 43,
     "metadata": {},
     "output_type": "execute_result"
    }
   ],
   "source": [
    "bool(Ali)"
   ]
  },
  {
   "cell_type": "markdown",
   "id": "274eb874",
   "metadata": {},
   "source": [
    "Other dunder methods for an object:"
   ]
  },
  {
   "cell_type": "code",
   "execution_count": 42,
   "id": "2ab04606",
   "metadata": {},
   "outputs": [
    {
     "data": {
      "text/plain": [
       "['__bool__',\n",
       " '__class__',\n",
       " '__delattr__',\n",
       " '__dict__',\n",
       " '__dir__',\n",
       " '__doc__',\n",
       " '__eq__',\n",
       " '__format__',\n",
       " '__ge__',\n",
       " '__getattribute__',\n",
       " '__gt__',\n",
       " '__hash__',\n",
       " '__init__',\n",
       " '__init_subclass__',\n",
       " '__le__',\n",
       " '__lt__',\n",
       " '__module__',\n",
       " '__ne__',\n",
       " '__new__',\n",
       " '__reduce__',\n",
       " '__reduce_ex__',\n",
       " '__repr__',\n",
       " '__setattr__',\n",
       " '__sizeof__',\n",
       " '__str__',\n",
       " '__subclasshook__',\n",
       " '__weakref__',\n",
       " 'courses',\n",
       " 'is_registered',\n",
       " 'register',\n",
       " 'st_id',\n",
       " 'university']"
      ]
     },
     "execution_count": 42,
     "metadata": {},
     "output_type": "execute_result"
    }
   ],
   "source": [
    "dir(Ali)"
   ]
  }
 ],
 "metadata": {
  "kernelspec": {
   "display_name": "Python 3 (ipykernel)",
   "language": "python",
   "name": "python3"
  },
  "language_info": {
   "codemirror_mode": {
    "name": "ipython",
    "version": 3
   },
   "file_extension": ".py",
   "mimetype": "text/x-python",
   "name": "python",
   "nbconvert_exporter": "python",
   "pygments_lexer": "ipython3",
   "version": "3.9.7"
  }
 },
 "nbformat": 4,
 "nbformat_minor": 5
}
