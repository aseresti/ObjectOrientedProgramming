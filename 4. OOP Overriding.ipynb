{
 "cells": [
  {
   "cell_type": "markdown",
   "id": "0e5069d2",
   "metadata": {},
   "source": [
    "# OOP Overriding"
   ]
  },
  {
   "cell_type": "markdown",
   "id": "4bff7878",
   "metadata": {},
   "source": [
    "## Overriding Built-in methods "
   ]
  },
  {
   "cell_type": "markdown",
   "id": "9866e524",
   "metadata": {},
   "source": [
    "It means that we change the default behaviour of a method in the new implimentation."
   ]
  },
  {
   "cell_type": "code",
   "execution_count": 1,
   "id": "173c934d",
   "metadata": {},
   "outputs": [],
   "source": [
    "class Order:\n",
    "    def __init__(self, customer, cart):\n",
    "        self.customer = customer\n",
    "        self.cart = cart"
   ]
  },
  {
   "cell_type": "code",
   "execution_count": 2,
   "id": "f34c25bb",
   "metadata": {},
   "outputs": [],
   "source": [
    "o = Order('Ali', {'Pear','Apple','Laptop'})"
   ]
  },
  {
   "cell_type": "code",
   "execution_count": 3,
   "id": "c0d10949",
   "metadata": {},
   "outputs": [
    {
     "data": {
      "text/plain": [
       "3"
      ]
     },
     "execution_count": 3,
     "metadata": {},
     "output_type": "execute_result"
    }
   ],
   "source": [
    "len(o.cart)"
   ]
  },
  {
   "cell_type": "code",
   "execution_count": 4,
   "id": "1ab79e95",
   "metadata": {},
   "outputs": [
    {
     "ename": "TypeError",
     "evalue": "object of type 'Order' has no len()",
     "output_type": "error",
     "traceback": [
      "\u001b[0;31m---------------------------------------------------------------------------\u001b[0m",
      "\u001b[0;31mTypeError\u001b[0m                                 Traceback (most recent call last)",
      "\u001b[0;32m/var/folders/05/bygg4rdj3n7543jkngl6k6z40000gn/T/ipykernel_95710/310058566.py\u001b[0m in \u001b[0;36m<module>\u001b[0;34m\u001b[0m\n\u001b[0;32m----> 1\u001b[0;31m \u001b[0mlen\u001b[0m\u001b[0;34m(\u001b[0m\u001b[0mo\u001b[0m\u001b[0;34m)\u001b[0m\u001b[0;34m\u001b[0m\u001b[0;34m\u001b[0m\u001b[0m\n\u001b[0m",
      "\u001b[0;31mTypeError\u001b[0m: object of type 'Order' has no len()"
     ]
    }
   ],
   "source": [
    "len(o)"
   ]
  },
  {
   "cell_type": "code",
   "execution_count": 7,
   "id": "60c7f41a",
   "metadata": {},
   "outputs": [],
   "source": [
    "class Order:\n",
    "    def __init__(self, customer, cart):\n",
    "        self.customer = customer\n",
    "        self.cart = cart\n",
    "    def __len__(self):\n",
    "        return len(self.cart)"
   ]
  },
  {
   "cell_type": "code",
   "execution_count": 8,
   "id": "b81422b8",
   "metadata": {},
   "outputs": [],
   "source": [
    "o = Order('Ali', {'Pear','Apple','Laptop'})"
   ]
  },
  {
   "cell_type": "code",
   "execution_count": 9,
   "id": "5e6facbb",
   "metadata": {},
   "outputs": [
    {
     "data": {
      "text/plain": [
       "3"
      ]
     },
     "execution_count": 9,
     "metadata": {},
     "output_type": "execute_result"
    }
   ],
   "source": [
    "len(o)"
   ]
  },
  {
   "cell_type": "markdown",
   "id": "6379cad1",
   "metadata": {},
   "source": [
    "Now, the len() function directly obtains the length of the cart. Plus, it makes more sense that length of an order is the length of the items in its cart. There are a lot of dunder methods that can be used this way."
   ]
  },
  {
   "cell_type": "markdown",
   "id": "6ea7f1de",
   "metadata": {},
   "source": [
    "### Making Your Objects to Work with abs( )"
   ]
  },
  {
   "cell_type": "code",
   "execution_count": 11,
   "id": "922f3642",
   "metadata": {},
   "outputs": [],
   "source": [
    "class Vector:\n",
    "    def __init__(self, *args):\n",
    "        self.components = args\n",
    "        \n",
    "    def get_length(self):\n",
    "        sum_ = 0\n",
    "        for a in self.components:\n",
    "            sum_ += a ** 2\n",
    "            \n",
    "        return sum_ ** 0.5\n",
    "    def __repr__(self):\n",
    "        return f\"Vector{self.components}\""
   ]
  },
  {
   "cell_type": "code",
   "execution_count": 12,
   "id": "02987a69",
   "metadata": {},
   "outputs": [],
   "source": [
    "v = Vector(2,3)"
   ]
  },
  {
   "cell_type": "code",
   "execution_count": 13,
   "id": "b6b12f11",
   "metadata": {},
   "outputs": [
    {
     "data": {
      "text/plain": [
       "Vector(2, 3)"
      ]
     },
     "execution_count": 13,
     "metadata": {},
     "output_type": "execute_result"
    }
   ],
   "source": [
    "v"
   ]
  },
  {
   "cell_type": "code",
   "execution_count": 14,
   "id": "33490fd6",
   "metadata": {},
   "outputs": [
    {
     "data": {
      "text/plain": [
       "3.605551275463989"
      ]
     },
     "execution_count": 14,
     "metadata": {},
     "output_type": "execute_result"
    }
   ],
   "source": [
    "v.get_length()"
   ]
  },
  {
   "cell_type": "code",
   "execution_count": 15,
   "id": "815898cf",
   "metadata": {},
   "outputs": [],
   "source": [
    "class Vector:\n",
    "    def __init__(self, *args):\n",
    "        self.components = args\n",
    "        \n",
    "    def __abs__(self):\n",
    "        sum_ = 0\n",
    "        for a in self.components:\n",
    "            sum_ += a ** 2\n",
    "            \n",
    "        return sum_ ** 0.5\n",
    "    \n",
    "    def __repr__(self):\n",
    "        return f\"Vector{self.components}\""
   ]
  },
  {
   "cell_type": "code",
   "execution_count": 18,
   "id": "b404f723",
   "metadata": {},
   "outputs": [],
   "source": [
    "v = Vector(3, 4)"
   ]
  },
  {
   "cell_type": "code",
   "execution_count": 19,
   "id": "95ee3aa2",
   "metadata": {},
   "outputs": [
    {
     "data": {
      "text/plain": [
       "5.0"
      ]
     },
     "execution_count": 19,
     "metadata": {},
     "output_type": "execute_result"
    }
   ],
   "source": [
    "abs(v)"
   ]
  },
  {
   "cell_type": "markdown",
   "id": "0ddc5415",
   "metadata": {},
   "source": [
    "Other dunder methods contain str( ), repr( ), bool( ), sub( ) for sumtraction, mul( ) for multiplication, add( ) for summation, floordiv( ) for // division, truediv( ) for / division, etc."
   ]
  },
  {
   "cell_type": "markdown",
   "id": "140977f9",
   "metadata": {},
   "source": [
    "In python, by default some objects are false:\n",
    "- False\n",
    "- None\n",
    "- numerically 0: 0, 0.0, 0+0j\n",
    "- empty composite data type: [], (), {}, dict()\n",
    "- empty string: \"\"\n",
    "\n",
    "Other objects are considered to be True by default."
   ]
  },
  {
   "cell_type": "code",
   "execution_count": 1,
   "id": "3b5fcfb6",
   "metadata": {},
   "outputs": [],
   "source": [
    "class Order:\n",
    "    def __init__(self,cart, customer):\n",
    "        self.cart = list(cart)\n",
    "        self.customer = customer\n",
    "    \n",
    "    def __bool__(self):\n",
    "        return len(self.cart) > 0"
   ]
  },
  {
   "cell_type": "code",
   "execution_count": 2,
   "id": "c0818863",
   "metadata": {},
   "outputs": [],
   "source": [
    "o = Order([1, 2, 3], 'Ali')"
   ]
  },
  {
   "cell_type": "code",
   "execution_count": 3,
   "id": "779c8020",
   "metadata": {},
   "outputs": [
    {
     "data": {
      "text/plain": [
       "True"
      ]
     },
     "execution_count": 3,
     "metadata": {},
     "output_type": "execute_result"
    }
   ],
   "source": [
    "bool(o)"
   ]
  },
  {
   "cell_type": "code",
   "execution_count": 4,
   "id": "db935bdb",
   "metadata": {},
   "outputs": [],
   "source": [
    "o = Order([],\"Ali\")"
   ]
  },
  {
   "cell_type": "code",
   "execution_count": 5,
   "id": "5f1bf421",
   "metadata": {},
   "outputs": [
    {
     "data": {
      "text/plain": [
       "False"
      ]
     },
     "execution_count": 5,
     "metadata": {},
     "output_type": "execute_result"
    }
   ],
   "source": [
    "bool(o)"
   ]
  },
  {
   "cell_type": "markdown",
   "id": "2609b177",
   "metadata": {},
   "source": [
    "## Overriding Built-in Operators"
   ]
  },
  {
   "cell_type": "markdown",
   "id": "d9237f36",
   "metadata": {},
   "source": [
    "To change the default behaviour of an operator just like the way we changed the behaviour of the function. The difference of overriding built-in operators with overriding the built-in methods is that the the class need to accept another argument in the definition other than \"self\", which is \"other\" in this case."
   ]
  },
  {
   "cell_type": "markdown",
   "id": "8be97415",
   "metadata": {},
   "source": [
    "### Making your objects capable of being added using +"
   ]
  },
  {
   "cell_type": "code",
   "execution_count": 8,
   "id": "53e36bef",
   "metadata": {},
   "outputs": [],
   "source": [
    "class Order:\n",
    "    def __init__(self, cart, customer):\n",
    "        self.cart = list(cart)\n",
    "        self.customer = customer\n",
    "        "
   ]
  },
  {
   "cell_type": "code",
   "execution_count": 9,
   "id": "bbe48a70",
   "metadata": {},
   "outputs": [],
   "source": [
    "o = Order(['Apple'],'Ali')"
   ]
  },
  {
   "cell_type": "code",
   "execution_count": 11,
   "id": "f727c0a2",
   "metadata": {},
   "outputs": [],
   "source": [
    "o_2 = Order([\"Pear\",'Cheese'], 'Ali')"
   ]
  },
  {
   "cell_type": "code",
   "execution_count": 12,
   "id": "0885b05b",
   "metadata": {},
   "outputs": [
    {
     "ename": "TypeError",
     "evalue": "unsupported operand type(s) for +: 'Order' and 'Order'",
     "output_type": "error",
     "traceback": [
      "\u001b[0;31m---------------------------------------------------------------------------\u001b[0m",
      "\u001b[0;31mTypeError\u001b[0m                                 Traceback (most recent call last)",
      "\u001b[0;32m/var/folders/05/bygg4rdj3n7543jkngl6k6z40000gn/T/ipykernel_45606/2924738525.py\u001b[0m in \u001b[0;36m<module>\u001b[0;34m\u001b[0m\n\u001b[0;32m----> 1\u001b[0;31m \u001b[0mo\u001b[0m \u001b[0;34m+\u001b[0m \u001b[0mo_2\u001b[0m\u001b[0;34m\u001b[0m\u001b[0;34m\u001b[0m\u001b[0m\n\u001b[0m",
      "\u001b[0;31mTypeError\u001b[0m: unsupported operand type(s) for +: 'Order' and 'Order'"
     ]
    }
   ],
   "source": [
    "o + o_2"
   ]
  },
  {
   "cell_type": "code",
   "execution_count": 14,
   "id": "99c742d5",
   "metadata": {},
   "outputs": [],
   "source": [
    "class Order:\n",
    "    def __init__(self, cart, customer):\n",
    "        self.cart = list(cart)\n",
    "        self.customer = customer\n",
    "    def __add__(self,obj):\n",
    "        new_cart = self.cart + obj.cart\n",
    "        new_customer = self.customer\n",
    "        return Order(new_cart, new_customer)"
   ]
  },
  {
   "cell_type": "code",
   "execution_count": 15,
   "id": "71d124e2",
   "metadata": {},
   "outputs": [],
   "source": [
    "o = Order(['Apple'],'Ali')"
   ]
  },
  {
   "cell_type": "code",
   "execution_count": 16,
   "id": "69169cbd",
   "metadata": {},
   "outputs": [],
   "source": [
    "o_2 = Order([\"Pear\",'Cheese'], 'Ali')"
   ]
  },
  {
   "cell_type": "code",
   "execution_count": 17,
   "id": "ef43234c",
   "metadata": {},
   "outputs": [],
   "source": [
    "new_order = o + o_2"
   ]
  },
  {
   "cell_type": "code",
   "execution_count": 18,
   "id": "8a882f04",
   "metadata": {},
   "outputs": [
    {
     "data": {
      "text/plain": [
       "['Apple', 'Pear', 'Cheese']"
      ]
     },
     "execution_count": 18,
     "metadata": {},
     "output_type": "execute_result"
    }
   ],
   "source": [
    "new_order.cart"
   ]
  },
  {
   "cell_type": "code",
   "execution_count": 19,
   "id": "9df48429",
   "metadata": {},
   "outputs": [
    {
     "data": {
      "text/plain": [
       "'Ali'"
      ]
     },
     "execution_count": 19,
     "metadata": {},
     "output_type": "execute_result"
    }
   ],
   "source": [
    "new_order.customer"
   ]
  },
  {
   "cell_type": "markdown",
   "id": "e8fe91df",
   "metadata": {},
   "source": [
    "### Getting the index of an object attribute"
   ]
  },
  {
   "cell_type": "code",
   "execution_count": 29,
   "id": "e1b94995",
   "metadata": {},
   "outputs": [],
   "source": [
    "class Order:\n",
    "    def __init__(self, cart, customer):\n",
    "        self.cart = list(cart)\n",
    "        self.customer = customer\n",
    "    def __getitem__(self, key): \n",
    "        return self.cart[key]"
   ]
  },
  {
   "cell_type": "code",
   "execution_count": 30,
   "id": "197ae3da",
   "metadata": {},
   "outputs": [],
   "source": [
    "o = Order([1, 2, 3], 'Ali')"
   ]
  },
  {
   "cell_type": "code",
   "execution_count": 32,
   "id": "c84f5b77",
   "metadata": {},
   "outputs": [
    {
     "data": {
      "text/plain": [
       "1"
      ]
     },
     "execution_count": 32,
     "metadata": {},
     "output_type": "execute_result"
    }
   ],
   "source": [
    "o[0]"
   ]
  }
 ],
 "metadata": {
  "kernelspec": {
   "display_name": "Python 3 (ipykernel)",
   "language": "python",
   "name": "python3"
  },
  "language_info": {
   "codemirror_mode": {
    "name": "ipython",
    "version": 3
   },
   "file_extension": ".py",
   "mimetype": "text/x-python",
   "name": "python",
   "nbconvert_exporter": "python",
   "pygments_lexer": "ipython3",
   "version": "3.9.7"
  }
 },
 "nbformat": 4,
 "nbformat_minor": 5
}
