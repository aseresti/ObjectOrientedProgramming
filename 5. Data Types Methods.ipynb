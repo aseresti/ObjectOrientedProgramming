{
 "cells": [
  {
   "cell_type": "markdown",
   "id": "7677ba08",
   "metadata": {},
   "source": [
    "# Data Types Methods"
   ]
  },
  {
   "cell_type": "markdown",
   "id": "887ef673",
   "metadata": {},
   "source": [
    "Python is a highly object-oriented programming language. Therefore, every item of the data in a python program is an object. As for each object there are several methods that the following syntax calls the method on an object:"
   ]
  },
  {
   "cell_type": "markdown",
   "id": "5c85b886",
   "metadata": {},
   "source": [
    "> obj.method(args)"
   ]
  },
  {
   "cell_type": "markdown",
   "id": "44d5cc41",
   "metadata": {},
   "source": [
    "### int, float, and complex"
   ]
  },
  {
   "cell_type": "code",
   "execution_count": 1,
   "id": "46c1db13",
   "metadata": {},
   "outputs": [
    {
     "data": {
      "text/plain": [
       "True"
      ]
     },
     "execution_count": 1,
     "metadata": {},
     "output_type": "execute_result"
    }
   ],
   "source": [
    "float_num = 3.0\n",
    "float_num.is_integer() # checks if the float number is an integer"
   ]
  },
  {
   "cell_type": "code",
   "execution_count": 2,
   "id": "32dbf968",
   "metadata": {},
   "outputs": [
    {
     "data": {
      "text/plain": [
       "(1-3j)"
      ]
     },
     "execution_count": 2,
     "metadata": {},
     "output_type": "execute_result"
    }
   ],
   "source": [
    "complex_num = 1 + 3j\n",
    "complex_num.conjugate()"
   ]
  },
  {
   "cell_type": "code",
   "execution_count": 3,
   "id": "a8408328",
   "metadata": {},
   "outputs": [
    {
     "data": {
      "text/plain": [
       "(1.0, 3.0)"
      ]
     },
     "execution_count": 3,
     "metadata": {},
     "output_type": "execute_result"
    }
   ],
   "source": [
    "complex_num.real, complex_num.imag"
   ]
  },
  {
   "cell_type": "markdown",
   "id": "43d372a0",
   "metadata": {},
   "source": [
    "### Built-in String Methods"
   ]
  },
  {
   "cell_type": "markdown",
   "id": "ecb4d78b",
   "metadata": {},
   "source": [
    "#### Case inversion"
   ]
  },
  {
   "cell_type": "code",
   "execution_count": 4,
   "id": "103ed03a",
   "metadata": {},
   "outputs": [],
   "source": [
    "s = 'This is string'"
   ]
  },
  {
   "cell_type": "code",
   "execution_count": 5,
   "id": "a1f9ba32",
   "metadata": {},
   "outputs": [
    {
     "data": {
      "text/plain": [
       "['__add__',\n",
       " '__class__',\n",
       " '__contains__',\n",
       " '__delattr__',\n",
       " '__dir__',\n",
       " '__doc__',\n",
       " '__eq__',\n",
       " '__format__',\n",
       " '__ge__',\n",
       " '__getattribute__',\n",
       " '__getitem__',\n",
       " '__getnewargs__',\n",
       " '__gt__',\n",
       " '__hash__',\n",
       " '__init__',\n",
       " '__init_subclass__',\n",
       " '__iter__',\n",
       " '__le__',\n",
       " '__len__',\n",
       " '__lt__',\n",
       " '__mod__',\n",
       " '__mul__',\n",
       " '__ne__',\n",
       " '__new__',\n",
       " '__reduce__',\n",
       " '__reduce_ex__',\n",
       " '__repr__',\n",
       " '__rmod__',\n",
       " '__rmul__',\n",
       " '__setattr__',\n",
       " '__sizeof__',\n",
       " '__str__',\n",
       " '__subclasshook__',\n",
       " 'capitalize',\n",
       " 'casefold',\n",
       " 'center',\n",
       " 'count',\n",
       " 'encode',\n",
       " 'endswith',\n",
       " 'expandtabs',\n",
       " 'find',\n",
       " 'format',\n",
       " 'format_map',\n",
       " 'index',\n",
       " 'isalnum',\n",
       " 'isalpha',\n",
       " 'isascii',\n",
       " 'isdecimal',\n",
       " 'isdigit',\n",
       " 'isidentifier',\n",
       " 'islower',\n",
       " 'isnumeric',\n",
       " 'isprintable',\n",
       " 'isspace',\n",
       " 'istitle',\n",
       " 'isupper',\n",
       " 'join',\n",
       " 'ljust',\n",
       " 'lower',\n",
       " 'lstrip',\n",
       " 'maketrans',\n",
       " 'partition',\n",
       " 'removeprefix',\n",
       " 'removesuffix',\n",
       " 'replace',\n",
       " 'rfind',\n",
       " 'rindex',\n",
       " 'rjust',\n",
       " 'rpartition',\n",
       " 'rsplit',\n",
       " 'rstrip',\n",
       " 'split',\n",
       " 'splitlines',\n",
       " 'startswith',\n",
       " 'strip',\n",
       " 'swapcase',\n",
       " 'title',\n",
       " 'translate',\n",
       " 'upper',\n",
       " 'zfill']"
      ]
     },
     "execution_count": 5,
     "metadata": {},
     "output_type": "execute_result"
    }
   ],
   "source": [
    "dir(s)"
   ]
  },
  {
   "cell_type": "code",
   "execution_count": 6,
   "id": "dff4c281",
   "metadata": {},
   "outputs": [
    {
     "data": {
      "text/plain": [
       "'this is string'"
      ]
     },
     "execution_count": 6,
     "metadata": {},
     "output_type": "execute_result"
    }
   ],
   "source": [
    "s.lower()"
   ]
  },
  {
   "cell_type": "code",
   "execution_count": 7,
   "id": "e68d49ce",
   "metadata": {},
   "outputs": [
    {
     "data": {
      "text/plain": [
       "'THIS IS STRING'"
      ]
     },
     "execution_count": 7,
     "metadata": {},
     "output_type": "execute_result"
    }
   ],
   "source": [
    "s.upper()"
   ]
  },
  {
   "cell_type": "code",
   "execution_count": 9,
   "id": "240089ca",
   "metadata": {},
   "outputs": [
    {
     "data": {
      "text/plain": [
       "'This Is String'"
      ]
     },
     "execution_count": 9,
     "metadata": {},
     "output_type": "execute_result"
    }
   ],
   "source": [
    "s.title()"
   ]
  },
  {
   "cell_type": "code",
   "execution_count": 10,
   "id": "a6964d36",
   "metadata": {},
   "outputs": [
    {
     "data": {
      "text/plain": [
       "'This is string'"
      ]
     },
     "execution_count": 10,
     "metadata": {},
     "output_type": "execute_result"
    }
   ],
   "source": [
    "s.capitalize()"
   ]
  },
  {
   "cell_type": "code",
   "execution_count": 11,
   "id": "d112772a",
   "metadata": {},
   "outputs": [
    {
     "data": {
      "text/plain": [
       "'a --- b --- c'"
      ]
     },
     "execution_count": 11,
     "metadata": {},
     "output_type": "execute_result"
    }
   ],
   "source": [
    "' --- '.join(['a','b','c'])"
   ]
  },
  {
   "cell_type": "code",
   "execution_count": 12,
   "id": "736f79d3",
   "metadata": {},
   "outputs": [
    {
     "data": {
      "text/plain": [
       "'tHIS IS STRING'"
      ]
     },
     "execution_count": 12,
     "metadata": {},
     "output_type": "execute_result"
    }
   ],
   "source": [
    "s.swapcase()"
   ]
  },
  {
   "cell_type": "code",
   "execution_count": 13,
   "id": "d545368a",
   "metadata": {},
   "outputs": [
    {
     "data": {
      "text/plain": [
       "4"
      ]
     },
     "execution_count": 13,
     "metadata": {},
     "output_type": "execute_result"
    }
   ],
   "source": [
    "'ali ali ali ali'.count('a')"
   ]
  },
  {
   "cell_type": "code",
   "execution_count": 18,
   "id": "188e4dbb",
   "metadata": {},
   "outputs": [
    {
     "data": {
      "text/plain": [
       "2"
      ]
     },
     "execution_count": 18,
     "metadata": {},
     "output_type": "execute_result"
    }
   ],
   "source": [
    "'foo moo goo'.count('oo',2) #counts number of'oo' from index number 2"
   ]
  },
  {
   "cell_type": "code",
   "execution_count": 19,
   "id": "aad92061",
   "metadata": {},
   "outputs": [],
   "source": [
    "files = ['file.txt', 'image.png', 'file.pdf']"
   ]
  },
  {
   "cell_type": "code",
   "execution_count": 22,
   "id": "a42da064",
   "metadata": {},
   "outputs": [
    {
     "name": "stdout",
     "output_type": "stream",
     "text": [
      "found text file file.txt\n"
     ]
    }
   ],
   "source": [
    "for file in files:\n",
    "    if file.endswith('.txt'):\n",
    "        print('found text file', file)"
   ]
  },
  {
   "cell_type": "code",
   "execution_count": 23,
   "id": "e8dedbe8",
   "metadata": {},
   "outputs": [
    {
     "data": {
      "text/plain": [
       "True"
      ]
     },
     "execution_count": 23,
     "metadata": {},
     "output_type": "execute_result"
    }
   ],
   "source": [
    "'foobar'.endswith('oob',0,4)"
   ]
  },
  {
   "cell_type": "code",
   "execution_count": 25,
   "id": "2644e0a0",
   "metadata": {},
   "outputs": [
    {
     "data": {
      "text/plain": [
       "0"
      ]
     },
     "execution_count": 25,
     "metadata": {},
     "output_type": "execute_result"
    }
   ],
   "source": [
    "'foo bar foo baz foo qux'.find('foo')"
   ]
  },
  {
   "cell_type": "code",
   "execution_count": 26,
   "id": "bba6ebda",
   "metadata": {},
   "outputs": [
    {
     "data": {
      "text/plain": [
       "True"
      ]
     },
     "execution_count": 26,
     "metadata": {},
     "output_type": "execute_result"
    }
   ],
   "source": [
    "'foobar'.startswith('foo')"
   ]
  },
  {
   "cell_type": "markdown",
   "id": "ccc62204",
   "metadata": {},
   "source": [
    "#### Character Classification"
   ]
  },
  {
   "cell_type": "code",
   "execution_count": 27,
   "id": "fbb0fb43",
   "metadata": {},
   "outputs": [
    {
     "data": {
      "text/plain": [
       "True"
      ]
     },
     "execution_count": 27,
     "metadata": {},
     "output_type": "execute_result"
    }
   ],
   "source": [
    "'abc123'.isalnum() # returns True if all of the characters are alphanumeric"
   ]
  },
  {
   "cell_type": "code",
   "execution_count": 28,
   "id": "2d4cb440",
   "metadata": {},
   "outputs": [
    {
     "data": {
      "text/plain": [
       "False"
      ]
     },
     "execution_count": 28,
     "metadata": {},
     "output_type": "execute_result"
    }
   ],
   "source": [
    "'abc$123'.isalnum()"
   ]
  },
  {
   "cell_type": "code",
   "execution_count": 29,
   "id": "9b573766",
   "metadata": {},
   "outputs": [
    {
     "data": {
      "text/plain": [
       "False"
      ]
     },
     "execution_count": 29,
     "metadata": {},
     "output_type": "execute_result"
    }
   ],
   "source": [
    "''.isalnum()"
   ]
  },
  {
   "cell_type": "code",
   "execution_count": 30,
   "id": "d2e48141",
   "metadata": {},
   "outputs": [
    {
     "data": {
      "text/plain": [
       "True"
      ]
     },
     "execution_count": 30,
     "metadata": {},
     "output_type": "execute_result"
    }
   ],
   "source": [
    "'ABCdef'.isalpha()"
   ]
  },
  {
   "cell_type": "code",
   "execution_count": 31,
   "id": "01dcee6b",
   "metadata": {},
   "outputs": [
    {
     "data": {
      "text/plain": [
       "True"
      ]
     },
     "execution_count": 31,
     "metadata": {},
     "output_type": "execute_result"
    }
   ],
   "source": [
    "'123'.isdigit()"
   ]
  },
  {
   "cell_type": "code",
   "execution_count": 32,
   "id": "1ebabf86",
   "metadata": {},
   "outputs": [
    {
     "data": {
      "text/plain": [
       "True"
      ]
     },
     "execution_count": 32,
     "metadata": {},
     "output_type": "execute_result"
    }
   ],
   "source": [
    "'foo32'.isidentifier() #if you can name a variable as that object"
   ]
  },
  {
   "cell_type": "code",
   "execution_count": 33,
   "id": "38580b78",
   "metadata": {},
   "outputs": [
    {
     "data": {
      "text/plain": [
       "True"
      ]
     },
     "execution_count": 33,
     "metadata": {},
     "output_type": "execute_result"
    }
   ],
   "source": [
    "'absd'.islower()"
   ]
  },
  {
   "cell_type": "code",
   "execution_count": 36,
   "id": "13d154b5",
   "metadata": {},
   "outputs": [
    {
     "data": {
      "text/plain": [
       "True"
      ]
     },
     "execution_count": 36,
     "metadata": {},
     "output_type": "execute_result"
    }
   ],
   "source": [
    "' \\t \\n'.isspace()"
   ]
  },
  {
   "cell_type": "code",
   "execution_count": 38,
   "id": "f2e3b70a",
   "metadata": {},
   "outputs": [
    {
     "data": {
      "text/plain": [
       "True"
      ]
     },
     "execution_count": 38,
     "metadata": {},
     "output_type": "execute_result"
    }
   ],
   "source": [
    "'This Is A Title'.istitle()"
   ]
  },
  {
   "cell_type": "code",
   "execution_count": 39,
   "id": "15a3507f",
   "metadata": {},
   "outputs": [
    {
     "data": {
      "text/plain": [
       "True"
      ]
     },
     "execution_count": 39,
     "metadata": {},
     "output_type": "execute_result"
    }
   ],
   "source": [
    "'ABS'.isupper()"
   ]
  },
  {
   "cell_type": "markdown",
   "id": "3e448b1d",
   "metadata": {},
   "source": [
    "### String Formatting"
   ]
  },
  {
   "cell_type": "code",
   "execution_count": 40,
   "id": "97e7da9a",
   "metadata": {},
   "outputs": [
    {
     "data": {
      "text/plain": [
       "'   foo    '"
      ]
     },
     "execution_count": 40,
     "metadata": {},
     "output_type": "execute_result"
    }
   ],
   "source": [
    "'foo'.center(10)"
   ]
  },
  {
   "cell_type": "code",
   "execution_count": 42,
   "id": "1a03f642",
   "metadata": {},
   "outputs": [
    {
     "data": {
      "text/plain": [
       "'---bar----'"
      ]
     },
     "execution_count": 42,
     "metadata": {},
     "output_type": "execute_result"
    }
   ],
   "source": [
    "'bar'.center(10,'-')"
   ]
  },
  {
   "cell_type": "code",
   "execution_count": 43,
   "id": "301fa517",
   "metadata": {},
   "outputs": [
    {
     "data": {
      "text/plain": [
       "'a\\tb\\tc'"
      ]
     },
     "execution_count": 43,
     "metadata": {},
     "output_type": "execute_result"
    }
   ],
   "source": [
    "'a\\tb\\tc'"
   ]
  },
  {
   "cell_type": "code",
   "execution_count": 45,
   "id": "547ff969",
   "metadata": {},
   "outputs": [
    {
     "data": {
      "text/plain": [
       "'a       b       c'"
      ]
     },
     "execution_count": 45,
     "metadata": {},
     "output_type": "execute_result"
    }
   ],
   "source": [
    "'a\\tb\\tc'.expandtabs()"
   ]
  },
  {
   "cell_type": "code",
   "execution_count": 46,
   "id": "5d8b0e8c",
   "metadata": {},
   "outputs": [
    {
     "data": {
      "text/plain": [
       "'a   b   c'"
      ]
     },
     "execution_count": 46,
     "metadata": {},
     "output_type": "execute_result"
    }
   ],
   "source": [
    "'a\\tb\\tc'.expandtabs(4)"
   ]
  },
  {
   "cell_type": "code",
   "execution_count": 48,
   "id": "6267e5fa",
   "metadata": {},
   "outputs": [
    {
     "data": {
      "text/plain": [
       "'foo       '"
      ]
     },
     "execution_count": 48,
     "metadata": {},
     "output_type": "execute_result"
    }
   ],
   "source": [
    "'foo'.ljust(10) # left justify"
   ]
  },
  {
   "cell_type": "code",
   "execution_count": 49,
   "id": "f2654e85",
   "metadata": {},
   "outputs": [
    {
     "data": {
      "text/plain": [
       "'foo-------'"
      ]
     },
     "execution_count": 49,
     "metadata": {},
     "output_type": "execute_result"
    }
   ],
   "source": [
    "'foo'.ljust(10,'-')"
   ]
  },
  {
   "cell_type": "code",
   "execution_count": 50,
   "id": "85ac1e6a",
   "metadata": {},
   "outputs": [
    {
     "data": {
      "text/plain": [
       "'foo'"
      ]
     },
     "execution_count": 50,
     "metadata": {},
     "output_type": "execute_result"
    }
   ],
   "source": [
    "'   foo   '.strip()"
   ]
  },
  {
   "cell_type": "code",
   "execution_count": 51,
   "id": "7173168e",
   "metadata": {},
   "outputs": [
    {
     "data": {
      "text/plain": [
       "'foo   '"
      ]
     },
     "execution_count": 51,
     "metadata": {},
     "output_type": "execute_result"
    }
   ],
   "source": [
    "'   foo   '.lstrip()"
   ]
  },
  {
   "cell_type": "code",
   "execution_count": 52,
   "id": "221e9445",
   "metadata": {},
   "outputs": [
    {
     "data": {
      "text/plain": [
       "'   foo'"
      ]
     },
     "execution_count": 52,
     "metadata": {},
     "output_type": "execute_result"
    }
   ],
   "source": [
    "'   foo   '.rstrip()"
   ]
  },
  {
   "cell_type": "code",
   "execution_count": 53,
   "id": "cd126eb7",
   "metadata": {},
   "outputs": [
    {
     "data": {
      "text/plain": [
       "'www.realpython.com'"
      ]
     },
     "execution_count": 53,
     "metadata": {},
     "output_type": "execute_result"
    }
   ],
   "source": [
    "'http://www.realpython.com'.lstrip(\"/:pth\")"
   ]
  },
  {
   "cell_type": "code",
   "execution_count": 54,
   "id": "938633d0",
   "metadata": {},
   "outputs": [
    {
     "data": {
      "text/plain": [
       "'-li'"
      ]
     },
     "execution_count": 54,
     "metadata": {},
     "output_type": "execute_result"
    }
   ],
   "source": [
    "'ali'.replace('a','-')"
   ]
  },
  {
   "cell_type": "code",
   "execution_count": 55,
   "id": "8db9af4c",
   "metadata": {},
   "outputs": [
    {
     "data": {
      "text/plain": [
       "'realpython'"
      ]
     },
     "execution_count": 55,
     "metadata": {},
     "output_type": "execute_result"
    }
   ],
   "source": [
    "'www.realpython.com'.strip('w.moc')"
   ]
  },
  {
   "cell_type": "code",
   "execution_count": 56,
   "id": "2d87343b",
   "metadata": {},
   "outputs": [
    {
     "data": {
      "text/plain": [
       "'00042'"
      ]
     },
     "execution_count": 56,
     "metadata": {},
     "output_type": "execute_result"
    }
   ],
   "source": [
    "'42'.zfill(5)"
   ]
  },
  {
   "cell_type": "code",
   "execution_count": 57,
   "id": "2db7fed5",
   "metadata": {},
   "outputs": [
    {
     "data": {
      "text/plain": [
       "'-0000042'"
      ]
     },
     "execution_count": 57,
     "metadata": {},
     "output_type": "execute_result"
    }
   ],
   "source": [
    "'-42'.zfill(8)"
   ]
  },
  {
   "cell_type": "code",
   "execution_count": 58,
   "id": "7d9035ca",
   "metadata": {},
   "outputs": [
    {
     "data": {
      "text/plain": [
       "'000foo'"
      ]
     },
     "execution_count": 58,
     "metadata": {},
     "output_type": "execute_result"
    }
   ],
   "source": [
    "'foo'.zfill(6)"
   ]
  },
  {
   "cell_type": "markdown",
   "id": "00203947",
   "metadata": {},
   "source": [
    "### Converting Between Strings and Lists"
   ]
  },
  {
   "cell_type": "code",
   "execution_count": 59,
   "id": "2586e7c1",
   "metadata": {},
   "outputs": [
    {
     "data": {
      "text/plain": [
       "'foo, bar, baz, qux'"
      ]
     },
     "execution_count": 59,
     "metadata": {},
     "output_type": "execute_result"
    }
   ],
   "source": [
    "', '.join(['foo', 'bar', 'baz', 'qux']) #concatenate string from an iterable"
   ]
  },
  {
   "cell_type": "code",
   "execution_count": 60,
   "id": "3c79fdaa",
   "metadata": {},
   "outputs": [
    {
     "data": {
      "text/plain": [
       "['c', 'o', 'r', 'g', 'e']"
      ]
     },
     "execution_count": 60,
     "metadata": {},
     "output_type": "execute_result"
    }
   ],
   "source": [
    "list('corge')"
   ]
  },
  {
   "cell_type": "code",
   "execution_count": 61,
   "id": "fbd9fcc7",
   "metadata": {},
   "outputs": [
    {
     "data": {
      "text/plain": [
       "'c:o:r:g:e'"
      ]
     },
     "execution_count": 61,
     "metadata": {},
     "output_type": "execute_result"
    }
   ],
   "source": [
    "':'.join('corge') #returns a string consisting of each charachter in 'corge' seperated by \":\""
   ]
  },
  {
   "cell_type": "code",
   "execution_count": 62,
   "id": "aded4e96",
   "metadata": {},
   "outputs": [
    {
     "data": {
      "text/plain": [
       "'foo---23---bar'"
      ]
     },
     "execution_count": 62,
     "metadata": {},
     "output_type": "execute_result"
    }
   ],
   "source": [
    "'---'.join(['foo', str(23), 'bar'])"
   ]
  },
  {
   "cell_type": "code",
   "execution_count": 64,
   "id": "4a36db97",
   "metadata": {},
   "outputs": [
    {
     "data": {
      "text/plain": [
       "('foo', '.', 'bar')"
      ]
     },
     "execution_count": 64,
     "metadata": {},
     "output_type": "execute_result"
    }
   ],
   "source": [
    "'foo.bar'.partition('.') #devides a string based on a seperator"
   ]
  },
  {
   "cell_type": "code",
   "execution_count": 65,
   "id": "6f426104",
   "metadata": {},
   "outputs": [
    {
     "data": {
      "text/plain": [
       "['foo', 'bar', 'baz', 'qux']"
      ]
     },
     "execution_count": 65,
     "metadata": {},
     "output_type": "execute_result"
    }
   ],
   "source": [
    "'foo bar baz qux'.rsplit() #splits a string into a list of substrings"
   ]
  },
  {
   "cell_type": "code",
   "execution_count": 66,
   "id": "bb29100b",
   "metadata": {},
   "outputs": [
    {
     "data": {
      "text/plain": [
       "['foo', 'bar', 'baz', 'quax']"
      ]
     },
     "execution_count": 66,
     "metadata": {},
     "output_type": "execute_result"
    }
   ],
   "source": [
    "'foo.bar.baz.quax'.rsplit(sep='.')"
   ]
  },
  {
   "cell_type": "code",
   "execution_count": 67,
   "id": "581bbaa8",
   "metadata": {},
   "outputs": [
    {
     "data": {
      "text/plain": [
       "['www', 'realpython.com']"
      ]
     },
     "execution_count": 67,
     "metadata": {},
     "output_type": "execute_result"
    }
   ],
   "source": [
    "'www.realpython.com'.split('.',maxsplit=1)"
   ]
  },
  {
   "cell_type": "code",
   "execution_count": 68,
   "id": "ce11ea46",
   "metadata": {},
   "outputs": [
    {
     "data": {
      "text/plain": [
       "['www.realpython', 'com']"
      ]
     },
     "execution_count": 68,
     "metadata": {},
     "output_type": "execute_result"
    }
   ],
   "source": [
    "'www.realpython.com'.rsplit('.',maxsplit=1)"
   ]
  },
  {
   "cell_type": "code",
   "execution_count": 71,
   "id": "9c95980f",
   "metadata": {},
   "outputs": [
    {
     "data": {
      "text/plain": [
       "['foo', 'bar', 'baz', 'qux']"
      ]
     },
     "execution_count": 71,
     "metadata": {},
     "output_type": "execute_result"
    }
   ],
   "source": [
    "'foo\\nbar\\nbaz\\r\\nqux'.splitlines()"
   ]
  },
  {
   "cell_type": "markdown",
   "id": "b0703ff9",
   "metadata": {},
   "source": [
    "### List Methods"
   ]
  },
  {
   "cell_type": "code",
   "execution_count": null,
   "id": "caea8b9d",
   "metadata": {},
   "outputs": [],
   "source": []
  }
 ],
 "metadata": {
  "kernelspec": {
   "display_name": "Python 3 (ipykernel)",
   "language": "python",
   "name": "python3"
  },
  "language_info": {
   "codemirror_mode": {
    "name": "ipython",
    "version": 3
   },
   "file_extension": ".py",
   "mimetype": "text/x-python",
   "name": "python",
   "nbconvert_exporter": "python",
   "pygments_lexer": "ipython3",
   "version": "3.9.7"
  }
 },
 "nbformat": 4,
 "nbformat_minor": 5
}
