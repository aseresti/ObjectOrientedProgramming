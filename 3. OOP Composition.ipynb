{
 "cells": [
  {
   "cell_type": "markdown",
   "id": "1a34145a",
   "metadata": {},
   "source": [
    "# OOP Composition"
   ]
  },
  {
   "cell_type": "markdown",
   "id": "daba7b07",
   "metadata": {},
   "source": [
    "## Implementation Inheritance vs Interface Inheritance"
   ]
  },
  {
   "cell_type": "markdown",
   "id": "dd5ceeb4",
   "metadata": {},
   "source": [
    "In the inheritance concept, the drived class inherits both the front end and back end.\n",
    "1. The base class interface: All methods, attributes, and properties of the base class. (front end)\n",
    "2. The base class implementation: The code that implements the base class interface. (back end)\n"
   ]
  },
  {
   "cell_type": "markdown",
   "id": "e44861ec",
   "metadata": {},
   "source": [
    " Sometimes, the drived class inherits the implementation, but has another interface.\n",
    " \n",
    " Inheritance: Reusing the implementation of a class.\n",
    " \n",
    " Composition: A composite class has a component of another class."
   ]
  },
  {
   "cell_type": "code",
   "execution_count": 3,
   "id": "bb2dc56c",
   "metadata": {},
   "outputs": [],
   "source": [
    "class Color:\n",
    "    def __init__(self,name,hex_code,RGB):\n",
    "        self.name = name\n",
    "        self.hex_code = hex_code\n",
    "        self.RGB = RGB\n",
    "        \n",
    "    def __str__(self):\n",
    "        return f\"{self.name} (#{self.hex_code}) ({self.RGB})\""
   ]
  },
  {
   "cell_type": "code",
   "execution_count": 4,
   "id": "d97ccb68",
   "metadata": {},
   "outputs": [],
   "source": [
    "c = Color(\"Blue\",\"0000FF\", (0,0,255))"
   ]
  },
  {
   "cell_type": "code",
   "execution_count": 5,
   "id": "87e54d3b",
   "metadata": {},
   "outputs": [
    {
     "name": "stdout",
     "output_type": "stream",
     "text": [
      "Blue (#0000FF) ((0, 0, 255))\n"
     ]
    }
   ],
   "source": [
    "print(c)"
   ]
  },
  {
   "cell_type": "code",
   "execution_count": 6,
   "id": "83731b79",
   "metadata": {},
   "outputs": [],
   "source": [
    "class shape:\n",
    "    def __init__(self,color):\n",
    "        self.color = color"
   ]
  },
  {
   "cell_type": "code",
   "execution_count": 7,
   "id": "98d0368b",
   "metadata": {},
   "outputs": [],
   "source": [
    "sh = shape(c)"
   ]
  },
  {
   "cell_type": "code",
   "execution_count": 9,
   "id": "accf56ae",
   "metadata": {},
   "outputs": [
    {
     "name": "stdout",
     "output_type": "stream",
     "text": [
      "Blue (#0000FF) ((0, 0, 255))\n"
     ]
    }
   ],
   "source": [
    "print(sh.color)"
   ]
  },
  {
   "cell_type": "markdown",
   "id": "f032e4e7",
   "metadata": {},
   "source": [
    "Now, the class shape is a composit class and the class Color is the component."
   ]
  },
  {
   "cell_type": "markdown",
   "id": "1da6a0ff",
   "metadata": {},
   "source": [
    "The inheritance models a \"is a\" relationship, while composition models a \"has a\" relationship. This is known as \"duck typing\" which means as long as an object behaves like a duck, it is a duck."
   ]
  }
 ],
 "metadata": {
  "kernelspec": {
   "display_name": "Python 3 (ipykernel)",
   "language": "python",
   "name": "python3"
  },
  "language_info": {
   "codemirror_mode": {
    "name": "ipython",
    "version": 3
   },
   "file_extension": ".py",
   "mimetype": "text/x-python",
   "name": "python",
   "nbconvert_exporter": "python",
   "pygments_lexer": "ipython3",
   "version": "3.9.7"
  }
 },
 "nbformat": 4,
 "nbformat_minor": 5
}
